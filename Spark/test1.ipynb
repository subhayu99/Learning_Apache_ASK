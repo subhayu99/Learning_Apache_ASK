{
 "cells": [
  {
   "cell_type": "markdown",
   "metadata": {},
   "source": [
    "# PySpark"
   ]
  },
  {
   "cell_type": "markdown",
   "metadata": {},
   "source": [
    "## SparkSession \n",
    "To use Spark, we need to first create SparkSession"
   ]
  },
  {
   "cell_type": "code",
   "execution_count": 2,
   "metadata": {},
   "outputs": [
    {
     "name": "stdout",
     "output_type": "stream",
     "text": [
      "22/08/17 12:59:31 WARN Utils: Your hostname, FFT-ThinkPad-L490 resolves to a loopback address: 127.0.1.1; using 192.168.29.4 instead (on interface wlp5s0)\n",
      "22/08/17 12:59:31 WARN Utils: Set SPARK_LOCAL_IP if you need to bind to another address\n"
     ]
    },
    {
     "name": "stderr",
     "output_type": "stream",
     "text": [
      "Setting default log level to \"WARN\".\n",
      "To adjust logging level use sc.setLogLevel(newLevel). For SparkR, use setLogLevel(newLevel).\n"
     ]
    },
    {
     "name": "stdout",
     "output_type": "stream",
     "text": [
      "22/08/17 12:59:32 WARN NativeCodeLoader: Unable to load native-hadoop library for your platform... using builtin-java classes where applicable\n"
     ]
    },
    {
     "data": {
      "text/html": [
       "\n",
       "            <div>\n",
       "                <p><b>SparkSession - in-memory</b></p>\n",
       "                \n",
       "        <div>\n",
       "            <p><b>SparkContext</b></p>\n",
       "\n",
       "            <p><a href=\"http://192.168.29.4:4040\">Spark UI</a></p>\n",
       "\n",
       "            <dl>\n",
       "              <dt>Version</dt>\n",
       "                <dd><code>v3.3.0</code></dd>\n",
       "              <dt>Master</dt>\n",
       "                <dd><code>local[*]</code></dd>\n",
       "              <dt>AppName</dt>\n",
       "                <dd><code>Dataframe</code></dd>\n",
       "            </dl>\n",
       "        </div>\n",
       "        \n",
       "            </div>\n",
       "        "
      ],
      "text/plain": [
       "<pyspark.sql.session.SparkSession at 0x7f654e10d250>"
      ]
     },
     "execution_count": 2,
     "metadata": {},
     "output_type": "execute_result"
    }
   ],
   "source": [
    "from pyspark.sql import SparkSession\n",
    "spark = SparkSession.builder.appName('Dataframe').getOrCreate()\n",
    "spark\n"
   ]
  },
  {
   "cell_type": "markdown",
   "metadata": {},
   "source": [
    "## Read CSV"
   ]
  },
  {
   "cell_type": "markdown",
   "metadata": {},
   "source": [
    "### Way 1"
   ]
  },
  {
   "cell_type": "code",
   "execution_count": 3,
   "metadata": {},
   "outputs": [],
   "source": [
    "# read the dataset\n",
    "df_pyspark = spark.read.option(\"header\", \"true\").csv(\n",
    "    \"test.csv\", inferSchema=True)\n"
   ]
  },
  {
   "cell_type": "markdown",
   "metadata": {},
   "source": [
    "### Way 2"
   ]
  },
  {
   "cell_type": "code",
   "execution_count": 17,
   "metadata": {},
   "outputs": [],
   "source": [
    "# read the dataset\n",
    "df_pyspark = spark.read.csv(\"test.csv\", header=True, inferSchema=True)\n"
   ]
  },
  {
   "cell_type": "markdown",
   "metadata": {},
   "source": [
    "## Basic DataFrame operations"
   ]
  },
  {
   "cell_type": "code",
   "execution_count": 4,
   "metadata": {},
   "outputs": [
    {
     "name": "stdout",
     "output_type": "stream",
     "text": [
      "root\n",
      " |-- Name: string (nullable = true)\n",
      " |-- Age: integer (nullable = true)\n",
      " |-- Experience: integer (nullable = true)\n",
      " |-- Salary: integer (nullable = true)\n",
      "\n"
     ]
    }
   ],
   "source": [
    "# check the schema\n",
    "df_pyspark.printSchema()\n"
   ]
  },
  {
   "cell_type": "code",
   "execution_count": 5,
   "metadata": {},
   "outputs": [
    {
     "data": {
      "text/plain": [
       "['Name', 'Age', 'Experience', 'Salary']"
      ]
     },
     "execution_count": 5,
     "metadata": {},
     "output_type": "execute_result"
    }
   ],
   "source": [
    "# check the columns\n",
    "df_pyspark.columns\n"
   ]
  },
  {
   "cell_type": "code",
   "execution_count": 6,
   "metadata": {},
   "outputs": [
    {
     "data": {
      "text/plain": [
       "[Row(Name='Rohit', Age=22, Experience=1, Salary=20000),\n",
       " Row(Name='Deep', Age=21, Experience=0, Salary=43000),\n",
       " Row(Name=None, Age=None, Experience=None, Salary=None)]"
      ]
     },
     "execution_count": 6,
     "metadata": {},
     "output_type": "execute_result"
    }
   ],
   "source": [
    "# get the head\n",
    "df_pyspark.head(3)\n"
   ]
  },
  {
   "cell_type": "code",
   "execution_count": 36,
   "metadata": {},
   "outputs": [
    {
     "name": "stdout",
     "output_type": "stream",
     "text": [
      "+-----+\n",
      "| Name|\n",
      "+-----+\n",
      "|Rohit|\n",
      "| Deep|\n",
      "| Anik|\n",
      "+-----+\n",
      "\n"
     ]
    }
   ],
   "source": [
    "# selecting multiple columns\n",
    "df_pyspark.select(\"Name\").show()\n"
   ]
  },
  {
   "cell_type": "code",
   "execution_count": 34,
   "metadata": {},
   "outputs": [
    {
     "name": "stdout",
     "output_type": "stream",
     "text": [
      "+-----+---+\n",
      "| Name|Age|\n",
      "+-----+---+\n",
      "|Rohit| 22|\n",
      "| Deep| 21|\n",
      "| Anik| 23|\n",
      "+-----+---+\n",
      "\n"
     ]
    }
   ],
   "source": [
    "# selecting multiple columns\n",
    "df_pyspark.select([\"Name\", \"Age\"]).show()\n"
   ]
  },
  {
   "cell_type": "code",
   "execution_count": 37,
   "metadata": {},
   "outputs": [
    {
     "data": {
      "text/plain": [
       "[('Name', 'string'), ('Age', 'int'), ('Experience', 'int')]"
      ]
     },
     "execution_count": 37,
     "metadata": {},
     "output_type": "execute_result"
    }
   ],
   "source": [
    "# check the datatypes\n",
    "df_pyspark.dtypes\n"
   ]
  },
  {
   "cell_type": "code",
   "execution_count": 39,
   "metadata": {},
   "outputs": [
    {
     "name": "stdout",
     "output_type": "stream",
     "text": [
      "+-------+-----+----+------------------+\n",
      "|summary| Name| Age|        Experience|\n",
      "+-------+-----+----+------------------+\n",
      "|  count|    3|   3|                 3|\n",
      "|   mean| null|22.0|               2.0|\n",
      "| stddev| null| 1.0|2.6457513110645907|\n",
      "|    min| Anik|  21|                 0|\n",
      "|    max|Rohit|  23|                 5|\n",
      "+-------+-----+----+------------------+\n",
      "\n"
     ]
    }
   ],
   "source": [
    "# describe the DataFrame\n",
    "df_pyspark.describe().show()\n"
   ]
  },
  {
   "cell_type": "code",
   "execution_count": 50,
   "metadata": {},
   "outputs": [
    {
     "name": "stdout",
     "output_type": "stream",
     "text": [
      "+-----+---+----------+-----------------+\n",
      "| Name|Age|Experience|Age after 2 Years|\n",
      "+-----+---+----------+-----------------+\n",
      "|Rohit| 22|         1|               24|\n",
      "| Deep| 21|         0|               23|\n",
      "| Anik| 23|         5|               25|\n",
      "+-----+---+----------+-----------------+\n",
      "\n"
     ]
    }
   ],
   "source": [
    "# add columns to DataFrame (not in-place operation)\n",
    "df_pyspark = df_pyspark.withColumn(\"Age after 2 Years\", df_pyspark[\"age\"]+2)\n",
    "df_pyspark.show()\n"
   ]
  },
  {
   "cell_type": "code",
   "execution_count": 55,
   "metadata": {},
   "outputs": [
    {
     "name": "stdout",
     "output_type": "stream",
     "text": [
      "+-----+---+----------+\n",
      "| Name|Age|Experience|\n",
      "+-----+---+----------+\n",
      "|Rohit| 22|         1|\n",
      "| Deep| 21|         0|\n",
      "| Anik| 23|         5|\n",
      "+-----+---+----------+\n",
      "\n"
     ]
    }
   ],
   "source": [
    "# drop columns (not in-place operation)\n",
    "df_pyspark = df_pyspark.drop(\"Age after 2 Years\")\n",
    "df_pyspark.show()\n"
   ]
  },
  {
   "cell_type": "code",
   "execution_count": 57,
   "metadata": {},
   "outputs": [
    {
     "name": "stdout",
     "output_type": "stream",
     "text": [
      "+-------+---+----------+\n",
      "|NewName|Age|Experience|\n",
      "+-------+---+----------+\n",
      "|  Rohit| 22|         1|\n",
      "|   Deep| 21|         0|\n",
      "|   Anik| 23|         5|\n",
      "+-------+---+----------+\n",
      "\n"
     ]
    }
   ],
   "source": [
    "# rename columns (again not in-place operation)\n",
    "df_pyspark.withColumnRenamed(\"Name\", \"NewName\").show()\n"
   ]
  },
  {
   "cell_type": "markdown",
   "metadata": {},
   "source": [
    "# PySpark handling missing values "
   ]
  },
  {
   "cell_type": "code",
   "execution_count": 71,
   "metadata": {},
   "outputs": [],
   "source": [
    "# read the dataset\n",
    "df_pyspark = spark.read.option(\"header\", \"true\").csv(\n",
    "    \"test.csv\", inferSchema=True)\n"
   ]
  },
  {
   "cell_type": "code",
   "execution_count": 72,
   "metadata": {},
   "outputs": [
    {
     "name": "stdout",
     "output_type": "stream",
     "text": [
      "+-------+----+----------+\n",
      "|   Name| Age|Experience|\n",
      "+-------+----+----------+\n",
      "|  Rohit|  22|         1|\n",
      "|   Deep|  21|         0|\n",
      "|   null|null|      null|\n",
      "|   Anik|  23|         5|\n",
      "|Subhayu|  22|         8|\n",
      "| Rijita|null|      null|\n",
      "| Arpita|null|         3|\n",
      "|   Nilu|  27|      null|\n",
      "|   null|  32|      null|\n",
      "|   null|  52|        27|\n",
      "+-------+----+----------+\n",
      "\n"
     ]
    }
   ],
   "source": [
    "df_pyspark.show()\n"
   ]
  },
  {
   "cell_type": "markdown",
   "metadata": {},
   "source": [
    "### Deleting rows with null values"
   ]
  },
  {
   "cell_type": "code",
   "execution_count": 73,
   "metadata": {},
   "outputs": [
    {
     "name": "stdout",
     "output_type": "stream",
     "text": [
      "+-------+---+----------+\n",
      "|   Name|Age|Experience|\n",
      "+-------+---+----------+\n",
      "|  Rohit| 22|         1|\n",
      "|   Deep| 21|         0|\n",
      "|   Anik| 23|         5|\n",
      "|Subhayu| 22|         8|\n",
      "+-------+---+----------+\n",
      "\n"
     ]
    }
   ],
   "source": [
    "# drop all rows with null values\n",
    "df_pyspark.na.drop().show()\n"
   ]
  },
  {
   "cell_type": "code",
   "execution_count": 70,
   "metadata": {},
   "outputs": [
    {
     "name": "stdout",
     "output_type": "stream",
     "text": [
      "+-------+---+----------+\n",
      "|   Name|Age|Experience|\n",
      "+-------+---+----------+\n",
      "|  Rohit| 22|         1|\n",
      "|   Deep| 21|         0|\n",
      "|   Anik| 23|         5|\n",
      "|Subhayu| 22|         8|\n",
      "+-------+---+----------+\n",
      "\n"
     ]
    }
   ],
   "source": [
    "# how = any (deletes rows having atleast 1 null value)\n",
    "df_pyspark.na.drop(how=\"any\").show()\n"
   ]
  },
  {
   "cell_type": "code",
   "execution_count": 75,
   "metadata": {},
   "outputs": [
    {
     "name": "stdout",
     "output_type": "stream",
     "text": [
      "+-------+----+----------+\n",
      "|   Name| Age|Experience|\n",
      "+-------+----+----------+\n",
      "|  Rohit|  22|         1|\n",
      "|   Deep|  21|         0|\n",
      "|   Anik|  23|         5|\n",
      "|Subhayu|  22|         8|\n",
      "| Rijita|null|      null|\n",
      "| Arpita|null|         3|\n",
      "|   Nilu|  27|      null|\n",
      "|   null|  32|      null|\n",
      "|   null|  52|        27|\n",
      "+-------+----+----------+\n",
      "\n"
     ]
    }
   ],
   "source": [
    "# how = all (only deletes rows having all null values)\n",
    "df_pyspark.na.drop(how=\"all\").show()\n"
   ]
  },
  {
   "cell_type": "code",
   "execution_count": 84,
   "metadata": {},
   "outputs": [
    {
     "name": "stdout",
     "output_type": "stream",
     "text": [
      "+-------+----+----------+\n",
      "|   Name| Age|Experience|\n",
      "+-------+----+----------+\n",
      "|  Rohit|  22|         1|\n",
      "|   Deep|  21|         0|\n",
      "|   Anik|  23|         5|\n",
      "|Subhayu|  22|         8|\n",
      "| Arpita|null|         3|\n",
      "|   Nilu|  27|      null|\n",
      "|   null|  52|        27|\n",
      "+-------+----+----------+\n",
      "\n"
     ]
    }
   ],
   "source": [
    "# thresh (delete rows with atleast thresh number of non-null values)\n",
    "df_pyspark.na.drop(how=\"any\", thresh=2).show()\n"
   ]
  },
  {
   "cell_type": "code",
   "execution_count": 86,
   "metadata": {},
   "outputs": [
    {
     "name": "stdout",
     "output_type": "stream",
     "text": [
      "+-------+---+----------+\n",
      "|   Name|Age|Experience|\n",
      "+-------+---+----------+\n",
      "|  Rohit| 22|         1|\n",
      "|   Deep| 21|         0|\n",
      "|   Anik| 23|         5|\n",
      "|Subhayu| 22|         8|\n",
      "|   Nilu| 27|      null|\n",
      "+-------+---+----------+\n",
      "\n"
     ]
    }
   ],
   "source": [
    "# subset (delete rows with null values in specified columns)\n",
    "df_pyspark.na.drop(how=\"any\", subset=[\"Name\", \"Age\"]).show()\n"
   ]
  },
  {
   "cell_type": "markdown",
   "metadata": {},
   "source": [
    "### Filling null values"
   ]
  },
  {
   "cell_type": "code",
   "execution_count": 101,
   "metadata": {},
   "outputs": [
    {
     "name": "stdout",
     "output_type": "stream",
     "text": [
      "+-------+----+----------+\n",
      "|   Name| Age|Experience|\n",
      "+-------+----+----------+\n",
      "|  Rohit|  22|         1|\n",
      "|   Deep|  21|         0|\n",
      "|     NA|null|      null|\n",
      "|   Anik|  23|         5|\n",
      "|Subhayu|  22|         8|\n",
      "| Rijita|null|      null|\n",
      "| Arpita|null|         3|\n",
      "|   Nilu|  27|      null|\n",
      "|     NA|  32|      null|\n",
      "|     NA|  52|        27|\n",
      "+-------+----+----------+\n",
      "\n"
     ]
    }
   ],
   "source": [
    "df_pyspark.na.fill(value=\"NA\", subset=[\"Name\"]).show()\n"
   ]
  },
  {
   "cell_type": "code",
   "execution_count": 121,
   "metadata": {},
   "outputs": [
    {
     "name": "stdout",
     "output_type": "stream",
     "text": [
      "+-------+---+----------+------+\n",
      "|   Name|Age|Experience|Salary|\n",
      "+-------+---+----------+------+\n",
      "|  Rohit| 22|         1| 20000|\n",
      "|   Deep| 21|         0| 43000|\n",
      "|Unknown| 25|         0|     0|\n",
      "|   Anik| 23|         5|  8000|\n",
      "|Subhayu| 22|         8| 42000|\n",
      "| Rijita| 25|         0| 26000|\n",
      "| Arpita| 25|         3| 23000|\n",
      "|   Nilu| 27|    100000|     0|\n",
      "|Unknown| 32|         0| 13000|\n",
      "|Unknown| 52|        27| 18000|\n",
      "+-------+---+----------+------+\n",
      "\n"
     ]
    }
   ],
   "source": [
    "df_pyspark.na.fill({\n",
    "    'Age': 25, \n",
    "    'Name': 'Unknown',\n",
    "    'Experience': 0, \n",
    "    'Salary': 0\n",
    "    }\n",
    ").show()\n"
   ]
  },
  {
   "cell_type": "code",
   "execution_count": 103,
   "metadata": {},
   "outputs": [],
   "source": [
    "from pyspark.ml.feature import Imputer\n",
    "\n",
    "cols = ['Age', 'Experience']\n",
    "imputer = Imputer(\n",
    "    inputCols=['Age', 'Experience'],\n",
    "    outputCols=[f\"{col}_imputed\" for col in cols],\n",
    ").setStrategy(\"mean\")\n"
   ]
  },
  {
   "cell_type": "code",
   "execution_count": 104,
   "metadata": {},
   "outputs": [
    {
     "name": "stdout",
     "output_type": "stream",
     "text": [
      "+-------+----+----------+-----------+------------------+\n",
      "|   Name| Age|Experience|Age_imputed|Experience_imputed|\n",
      "+-------+----+----------+-----------+------------------+\n",
      "|  Rohit|  22|         1|         22|                 1|\n",
      "|   Deep|  21|         0|         21|                 0|\n",
      "|   null|null|      null|         28|                 7|\n",
      "|   Anik|  23|         5|         23|                 5|\n",
      "|Subhayu|  22|         8|         22|                 8|\n",
      "| Rijita|null|      null|         28|                 7|\n",
      "| Arpita|null|         3|         28|                 3|\n",
      "|   Nilu|  27|      null|         27|                 7|\n",
      "|   null|  32|      null|         32|                 7|\n",
      "|   null|  52|        27|         52|                27|\n",
      "+-------+----+----------+-----------+------------------+\n",
      "\n"
     ]
    }
   ],
   "source": [
    "# add imputation cols to df\n",
    "imputer.fit(df_pyspark).transform(df_pyspark).show()\n"
   ]
  },
  {
   "cell_type": "markdown",
   "metadata": {},
   "source": [
    "## PySpark DataFrames Filter Operations\n",
    "- Filter Operation\n",
    "- &,|,==\n",
    "- ~"
   ]
  },
  {
   "cell_type": "markdown",
   "metadata": {},
   "source": [
    "### Filter Operation"
   ]
  },
  {
   "cell_type": "code",
   "execution_count": 106,
   "metadata": {},
   "outputs": [
    {
     "name": "stdout",
     "output_type": "stream",
     "text": [
      "+-------+----+----------+------+\n",
      "|   Name| Age|Experience|Salary|\n",
      "+-------+----+----------+------+\n",
      "|  Rohit|  22|         1| 20000|\n",
      "|   Deep|  21|         0| 43000|\n",
      "|   null|null|      null|  null|\n",
      "|   Anik|  23|         5|  8000|\n",
      "|Subhayu|  22|         8| 42000|\n",
      "| Rijita|null|      null| 26000|\n",
      "| Arpita|null|         3| 23000|\n",
      "|   Nilu|  27|    100000|  null|\n",
      "|   null|  32|      null| 13000|\n",
      "|   null|  52|        27| 18000|\n",
      "+-------+----+----------+------+\n",
      "\n"
     ]
    }
   ],
   "source": [
    "# read the dataset\n",
    "df_pyspark = spark.read.option(\"header\", \"true\").csv(\n",
    "    \"test.csv\", inferSchema=True)\n",
    "df_pyspark.show()\n"
   ]
  },
  {
   "cell_type": "code",
   "execution_count": 118,
   "metadata": {},
   "outputs": [
    {
     "name": "stdout",
     "output_type": "stream",
     "text": [
      "+-------+----+\n",
      "|   Name| Age|\n",
      "+-------+----+\n",
      "|  Rohit|  22|\n",
      "|   Deep|  21|\n",
      "|Subhayu|  22|\n",
      "| Rijita|null|\n",
      "| Arpita|null|\n",
      "+-------+----+\n",
      "\n"
     ]
    }
   ],
   "source": [
    "# select Name, Age where Salary is greater than or equal to 20000\n",
    "df_pyspark.filter(\"Salary>=20000\").select([\"Name\", \"Age\"]).show()\n"
   ]
  },
  {
   "cell_type": "code",
   "execution_count": 122,
   "metadata": {},
   "outputs": [
    {
     "name": "stdout",
     "output_type": "stream",
     "text": [
      "+-------+----+----------+------+\n",
      "|   Name| Age|Experience|Salary|\n",
      "+-------+----+----------+------+\n",
      "|  Rohit|  22|         1| 20000|\n",
      "|   Deep|  21|         0| 43000|\n",
      "|Subhayu|  22|         8| 42000|\n",
      "| Rijita|null|      null| 26000|\n",
      "| Arpita|null|         3| 23000|\n",
      "+-------+----+----------+------+\n",
      "\n"
     ]
    },
    {
     "name": "stdout",
     "output_type": "stream",
     "text": [
      "22/07/09 19:49:18 WARN HeartbeatReceiver: Removing executor driver with no recent heartbeats: 10113220 ms exceeds timeout 120000 ms\n",
      "22/07/09 19:49:18 WARN SparkContext: Killing executors is not supported by current scheduler.\n"
     ]
    }
   ],
   "source": [
    "df_pyspark.filter((df_pyspark['Salary']>=20000) & ()).show()"
   ]
  },
  {
   "cell_type": "code",
   "execution_count": null,
   "metadata": {},
   "outputs": [],
   "source": []
  },
  {
   "cell_type": "code",
   "execution_count": null,
   "metadata": {},
   "outputs": [],
   "source": []
  },
  {
   "cell_type": "code",
   "execution_count": null,
   "metadata": {},
   "outputs": [],
   "source": []
  },
  {
   "cell_type": "code",
   "execution_count": null,
   "metadata": {},
   "outputs": [],
   "source": []
  },
  {
   "cell_type": "code",
   "execution_count": null,
   "metadata": {},
   "outputs": [],
   "source": []
  }
 ],
 "metadata": {
  "kernelspec": {
   "display_name": "Python 3.8.10 64-bit",
   "language": "python",
   "name": "python3"
  },
  "language_info": {
   "codemirror_mode": {
    "name": "ipython",
    "version": 3
   },
   "file_extension": ".py",
   "mimetype": "text/x-python",
   "name": "python",
   "nbconvert_exporter": "python",
   "pygments_lexer": "ipython3",
   "version": "3.8.10"
  },
  "orig_nbformat": 4,
  "vscode": {
   "interpreter": {
    "hash": "916dbcbb3f70747c44a77c7bcd40155683ae19c65e1c03b4aa3499c5328201f1"
   }
  }
 },
 "nbformat": 4,
 "nbformat_minor": 2
}
